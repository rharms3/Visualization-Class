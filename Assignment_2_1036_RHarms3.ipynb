{
  "cells": [
    {
      "cell_type": "markdown",
      "metadata": {
        "id": "view-in-github",
        "colab_type": "text"
      },
      "source": [
        "<a href=\"https://colab.research.google.com/github/rharms3/Visualization-Class/blob/master/Assignment_2_1036_RHarms3.ipynb\" target=\"_parent\"><img src=\"https://colab.research.google.com/assets/colab-badge.svg\" alt=\"Open In Colab\"/></a>"
      ]
    },
    {
      "cell_type": "markdown",
      "metadata": {
        "id": "4qpWipBYoRXa"
      },
      "source": [
        "# (PSL) Coding Assignment 2\n",
        "\n",
        "Fall 2022\n",
        "\n",
        "Richard Harms - RHarms3\n",
        "\n",
        "# Part I: Implement Lasso"
      ],
      "id": "4qpWipBYoRXa"
    },
    {
      "cell_type": "code",
      "execution_count": 31,
      "metadata": {
        "id": "AtTrE5W2oRXd"
      },
      "outputs": [],
      "source": [
        "import pandas as pd\n",
        "import numpy as np\n",
        "import matplotlib.pyplot as plt\n",
        "from sklearn.linear_model import LinearRegression\n",
        "from sklearn.decomposition import PCA\n",
        "from sklearn.preprocessing import StandardScaler\n",
        "from sklearn.pipeline import Pipeline\n",
        "import glmnet_python\n",
        "from glmnet import glmnet\n",
        "from cvglmnet import cvglmnet\n",
        "from cvglmnetPredict import cvglmnetPredict\n",
        "from cvglmnetPlot import cvglmnetPlot\n",
        "from cvglmnetCoef import cvglmnetCoef\n"
      ],
      "id": "AtTrE5W2oRXd"
    },
    {
      "cell_type": "markdown",
      "metadata": {
        "id": "0KYLDfoboRXe"
      },
      "source": [
        "# Load Data"
      ],
      "id": "0KYLDfoboRXe"
    },
    {
      "cell_type": "code",
      "execution_count": 32,
      "metadata": {
        "scrolled": true,
        "id": "xrszNVcuoRXe"
      },
      "outputs": [],
      "source": [
        "myData = pd.read_csv(\"Coding2_Data.csv\")\n",
        "var_names = myData.columns\n",
        "y = myData[[\"Y\"]].to_numpy()\n",
        "X = myData.drop([\"Y\"], axis = 1).to_numpy()"
      ],
      "id": "xrszNVcuoRXe"
    },
    {
      "cell_type": "code",
      "execution_count": 33,
      "metadata": {
        "colab": {
          "base_uri": "https://localhost:8080/"
        },
        "id": "ZiFZuqpooRXe",
        "outputId": "45846608-e111-4fba-934c-19101dbc00c9"
      },
      "outputs": [
        {
          "output_type": "stream",
          "name": "stdout",
          "text": [
            "               V1          V2          V3          V4          V5          V6  \\\n",
            "count  506.000000  506.000000  506.000000  506.000000  506.000000  506.000000   \n",
            "mean    -0.780436    1.136364    2.160192    0.069170   -0.610026    1.831864   \n",
            "std      2.162050    2.332245    0.776987    0.253994    0.201483    0.112325   \n",
            "min     -5.064036    0.000000   -0.776529    0.000000   -0.954512    1.270041   \n",
            "25%     -2.500488    0.000000    1.646734    0.000000   -0.800732    1.772492   \n",
            "50%     -1.360641    0.000000    2.271094    0.000000   -0.619897    1.825919   \n",
            "75%      1.302119    1.250000    2.895912    0.000000   -0.471605    1.890624   \n",
            "max      4.488369   10.000000    3.322875    1.000000   -0.138113    2.172476   \n",
            "\n",
            "               V7          V8          V9         V10         V11         V12  \\\n",
            "count  506.000000  506.000000  506.000000  506.000000  506.000000  506.000000   \n",
            "mean     5.060790    1.188032    1.867661    5.931405    2.150054    3.566740   \n",
            "std      3.566546    0.539547    0.874833    0.396367    1.364011    0.912949   \n",
            "min      0.001432    0.121864    0.000000    5.231109    0.154470    0.003200   \n",
            "25%      1.360301    0.742021    1.386294    5.631212    1.053634    3.753775   \n",
            "50%      5.287613    1.165473    1.609438    5.799093    2.038970    3.914400   \n",
            "75%      8.583922    1.646399    3.178054    6.501290    3.229233    3.962250   \n",
            "max     10.000000    2.495393    3.178054    6.566672    6.634244    3.969000   \n",
            "\n",
            "              V13           Y  \n",
            "count  506.000000  506.000000  \n",
            "mean     3.417673    3.034513  \n",
            "std      0.987167    0.408757  \n",
            "min      1.315295    1.609438  \n",
            "25%      2.636277    2.834680  \n",
            "50%      3.370459    3.054001  \n",
            "75%      4.117645    3.218876  \n",
            "max      6.161980    3.912023  \n"
          ]
        }
      ],
      "source": [
        "X.shape, len(y)\n",
        "myData\n",
        "df2= myData.describe()\n",
        "print(df2)\n",
        "# Y is only column Y\n",
        "# X is the rest of the table minus the Y column "
      ],
      "id": "ZiFZuqpooRXe"
    },
    {
      "cell_type": "markdown",
      "metadata": {
        "id": "E79-O7C3oRXf"
      },
      "source": [
        "# CD for Lasso"
      ],
      "id": "E79-O7C3oRXf"
    },
    {
      "cell_type": "code",
      "execution_count": 34,
      "metadata": {
        "id": "QhwGFJ_NoRXg"
      },
      "outputs": [],
      "source": [
        "def one_var_lasso(r, z, lam):\n",
        "    \n",
        "    #################\n",
        "    # Your CODE\n",
        "    #################\n",
        "\n",
        "    # A = R transpose * z / norm Z squared\n",
        "    # then plug that back into the formula 2\n",
        "    #\n",
        "    a = np.dot(r.transpose(),z) / (np.linalg.norm(z)**2)\n",
        "\n",
        "    n = r.size\n",
        "    \n",
        "    newlam = (2*n*lam )/(np.linalg.norm(z)**2)\n",
        "    \n",
        "    if a > (newlam/2):\n",
        "        b = a - (newlam/2)\n",
        "    elif abs(a) <= (newlam/2):\n",
        "        b = 0\n",
        "    elif a < -(newlam/2):\n",
        "        b = a  + (newlam/2)\n",
        "    \n",
        "    return(b)"
      ],
      "id": "QhwGFJ_NoRXg"
    },
    {
      "cell_type": "code",
      "execution_count": 36,
      "metadata": {
        "id": "xT6qTWBaoRXg"
      },
      "outputs": [],
      "source": [
        "def MyLasso(X, y, lam_seq, maxit = 100):\n",
        "    \n",
        "    # Input\n",
        "    # X: n-by-p design matrix without the intercept \n",
        "    # y: n-by-1 response vector \n",
        "    # lam.seq: sequence of lambda values (arranged from large to small)\n",
        "    # maxit: number of updates for each lambda \n",
        "    \n",
        "    # Output\n",
        "    # B: a (p+1)-by-len(lam.seq) coefficient matrix \n",
        "    #    with the first row being the intercept sequence \n",
        "\n",
        "  \n",
        "    n, p = X.shape\n",
        "    nlam = len(lam_seq)\n",
        "    B = np.zeros((p+1, nlam))\n",
        "    \n",
        "    ##############################\n",
        "    # YOUR CODE: \n",
        "    # (1) newX = Standardizad X; \n",
        "    # (2) Record the centers and scales used in (1) \n",
        "    ##############################\n",
        "\n",
        "    # loop through each column of X and subtract the mean of the column from each value and store i nnew vector, \n",
        "    # also capture each mean for the colum in a centers vector\n",
        "    \n",
        "    newX = np.zeros((n, p))\n",
        "    stdcol = np.zeros((1,p))\n",
        "    \n",
        "    xmean = X.mean(axis=0)\n",
        "    stdcol = X.std(axis=0)\n",
        "    \n",
        "    newX = (X - xmean)/stdcol\n",
        "    \n",
        "    # Initilize coef vector b and residual vector r\n",
        "    b = np.zeros(p)\n",
        "    r = y\n",
        "    \n",
        "    # Triple nested loop\n",
        "    for m in range(nlam):\n",
        "        for step in range(maxit):\n",
        "            for j in range(p):\n",
        "                X_j = newX[:, j].reshape(-1,1)\n",
        "                r = r + X_j * b[j]\n",
        "                b[j] = one_var_lasso(r, X_j, lam_seq[m])\n",
        "                r = r - X_j * b[j]\n",
        "        B[1:, m] = b \n",
        "        \n",
        "    ##############################\n",
        "    # YOUR CODE:\n",
        "    # Scale back the coefficients;\n",
        "    # Update the intercepts stored in B[1,] - or B[0,] as 0 is first not 1\n",
        "    ##############################\n",
        "  \n",
        "    ymean = y.mean(axis =0)\n",
        "\n",
        "    B[0,] = ymean - np.dot(np.divide(xmean,stdcol), B[1:,]) # (mcolmean * B[1:p+1,])\n",
        " \n",
        "    return(B)"
      ],
      "id": "xT6qTWBaoRXg"
    },
    {
      "cell_type": "code",
      "execution_count": 37,
      "metadata": {
        "id": "ewp3bBoEoRXh"
      },
      "outputs": [],
      "source": [
        "log_lam_seq = np.linspace(-1, -8, num = 80)\n",
        "lam_seq = np.exp(log_lam_seq)\n",
        "myout = MyLasso(X, y, lam_seq, maxit = 100)"
      ],
      "id": "ewp3bBoEoRXh"
    },
    {
      "cell_type": "code",
      "execution_count": 38,
      "metadata": {
        "colab": {
          "base_uri": "https://localhost:8080/",
          "height": 530
        },
        "id": "E8FldyouoRXh",
        "outputId": "a0a51deb-59c9-43d4-eb76-08739be5061e"
      },
      "outputs": [
        {
          "output_type": "execute_result",
          "data": {
            "text/plain": [
              "(-8.35, -0.6499999999999999, -0.2743276335841055, 0.07194637350257987)"
            ]
          },
          "metadata": {},
          "execution_count": 38
        },
        {
          "output_type": "display_data",
          "data": {
            "text/plain": [
              "<Figure size 864x576 with 1 Axes>"
            ],
            "image/png": "[encoded data removed]"
          },
          "metadata": {
            "needs_background": "light"
          }
        }
      ],
      "source": [
        "p, _ = myout.shape\n",
        "plt.figure(figsize = (12,8))\n",
        "\n",
        "for i in range(p-1):\n",
        "    plt.plot(log_lam_seq, myout[i+1, :], label = var_names[i])\n",
        "\n",
        "plt.xlabel('Log Lambda')\n",
        "plt.ylabel('Coefficients')\n",
        "plt.title('Lasso Paths - Numpy implementation')\n",
        "plt.legend()\n",
        "plt.axis('tight')"
      ],
      "id": "E8FldyouoRXh"
    },
    {
      "cell_type": "markdown",
      "metadata": {
        "id": "Q20bm9PSoRXh"
      },
      "source": [
        "# Check the Accuracy\n",
        "\n",
        "Compare the accuracy of your algorithm against the output from glmnet. The maximum difference between the two coefficient matrices should be less than 0.005.\n"
      ],
      "id": "Q20bm9PSoRXh"
    },
    {
      "cell_type": "code",
      "execution_count": 39,
      "metadata": {
        "colab": {
          "base_uri": "https://localhost:8080/"
        },
        "id": "25q5pMVUoRXi",
        "outputId": "78e2e19e-2c5e-4695-c63c-0edc2d244e03"
      },
      "outputs": [
        {
          "output_type": "execute_result",
          "data": {
            "text/plain": [
              "(14, 80)"
            ]
          },
          "metadata": {},
          "execution_count": 39
        }
      ],
      "source": [
        "lasso_coef = pd.read_csv(\"Coding2_lasso_coefs.csv\").to_numpy()\n",
        "lasso_coef.shape"
      ],
      "id": "25q5pMVUoRXi"
    },
    {
      "cell_type": "code",
      "execution_count": 40,
      "metadata": {
        "colab": {
          "base_uri": "https://localhost:8080/"
        },
        "id": "N-pul6fLoRXi",
        "outputId": "bf4e2729-6fc6-4c16-ac77-cf616836b045"
      },
      "outputs": [
        {
          "output_type": "execute_result",
          "data": {
            "text/plain": [
              "0.4105274512033368"
            ]
          },
          "metadata": {},
          "execution_count": 40
        }
      ],
      "source": [
        "abs(myout - lasso_coef).max()"
      ],
      "id": "N-pul6fLoRXi"
    },
    {
      "cell_type": "markdown",
      "metadata": {
        "id": "DNPLBVw8oRXi"
      },
      "source": [
        "# Simulation Study"
      ],
      "id": "DNPLBVw8oRXi"
    },
    {
      "cell_type": "markdown",
      "metadata": {
        "id": "wiSGM6rnoRXj"
      },
      "source": [
        "# Case I\n",
        "\n",
        "**Questions:**\n",
        "1.   The method(s) that performed the best - **Ridge min** and **Lasso min** seemed to perform the best.\n",
        "2.   The method(s) that performed the worst - **Lasso 1se** seemed to perform the worst\n",
        "3.   For Ridge regression, **Lambda.min** produced the best MSPE \n",
        "4.   For Lasso regression, **Lambda.min** produced the best MSPE\n",
        "5.   Does L.Refit perform better than Lasso.ise?\n",
        "  **Answer** - from my results it appears that Refit performed better.\n",
        "6.   Is Full comparable or not to the best of the others?\n",
        " **Answer** - no, full is not comparable to the best of the others.  Its performed worse in the prediction errors.\n",
        "\n"
      ],
      "id": "wiSGM6rnoRXj"
    },
    {
      "cell_type": "code",
      "execution_count": 41,
      "metadata": {
        "id": "_9GLf0GIoRXj"
      },
      "outputs": [],
      "source": [
        "# Set seed\n",
        "np.random.seed(1036)\n",
        "\n",
        "myData = pd.read_csv(\"Coding2_Data2.csv\")\n",
        "var_names = myData.columns\n",
        "Y = myData[[\"Y\"]].to_numpy()\n",
        "X = myData.drop([\"Y\"], axis = 1).to_numpy()"
      ],
      "id": "_9GLf0GIoRXj"
    },
    {
      "cell_type": "code",
      "execution_count": 42,
      "metadata": {
        "id": "viPFMdZ1oRXj"
      },
      "outputs": [],
      "source": [
        "n = len(Y) #(Y)\n",
        "indices = np.arange(0, n)\n",
        "np.random.shuffle(indices)\n",
        "test_ind = indices[:int(np.floor(0.25*n))]\n",
        "train_ind = indices[len(test_ind):]"
      ],
      "id": "viPFMdZ1oRXj"
    },
    {
      "cell_type": "markdown",
      "source": [
        "# Full Model\n",
        "\n"
      ],
      "metadata": {
        "id": "3MGuWqSxuE2C"
      },
      "id": "3MGuWqSxuE2C"
    },
    {
      "cell_type": "code",
      "source": [
        "full = LinearRegression().fit(X[train_ind, :], Y[train_ind]) #Y\n",
        "fullmean = np.mean((full.predict(X[test_ind, :]) - Y[test_ind])**2) #Y\n",
        "np.mean((full.predict(X[test_ind, :]) - Y[test_ind])**2) #Y"
      ],
      "metadata": {
        "colab": {
          "base_uri": "https://localhost:8080/"
        },
        "id": "sL7x0XaVuEF1",
        "outputId": "c4ef6480-add1-4870-d838-c6205836b1fd"
      },
      "id": "sL7x0XaVuEF1",
      "execution_count": 43,
      "outputs": [
        {
          "output_type": "execute_result",
          "data": {
            "text/plain": [
              "0.027860240867754585"
            ]
          },
          "metadata": {},
          "execution_count": 43
        }
      ]
    },
    {
      "cell_type": "markdown",
      "metadata": {
        "id": "fmEBjDGDoRXk"
      },
      "source": [
        "# Ridge Regression\n",
        "\n",
        "First Determine Lambda sequence"
      ],
      "id": "fmEBjDGDoRXk"
    },
    {
      "cell_type": "code",
      "execution_count": 44,
      "metadata": {
        "id": "6FEg7ArVoRXk"
      },
      "outputs": [],
      "source": [
        "ridge_seq = np.exp(np.linspace(-2, -10, num=100))\n",
        "ridge_out = cvglmnet(x = X.copy(), y = Y.copy(), alpha = 0, lambdau = ridge_seq)"
      ],
      "id": "6FEg7ArVoRXk"
    },
    {
      "cell_type": "code",
      "execution_count": 45,
      "metadata": {
        "colab": {
          "base_uri": "https://localhost:8080/",
          "height": 308
        },
        "id": "6aZGkPkUoRXk",
        "outputId": "c074614f-85e1-4599-c58c-aab0292422bd"
      },
      "outputs": [
        {
          "output_type": "display_data",
          "data": {
            "text/plain": [
              "<Figure size 432x288 with 2 Axes>"
            ],
            "image/png": "[encoded data removed]"
          },
          "metadata": {
            "needs_background": "light"
          }
        }
      ],
      "source": [
        "cvglmnetPlot(ridge_out)"
      ],
      "id": "6aZGkPkUoRXk"
    },
    {
      "cell_type": "code",
      "execution_count": 46,
      "metadata": {
        "colab": {
          "base_uri": "https://localhost:8080/"
        },
        "id": "H87QDJKLoRXk",
        "outputId": "8e2e3a14-46c6-4b6c-e59c-a230f9f76257"
      },
      "outputs": [
        {
          "output_type": "execute_result",
          "data": {
            "text/plain": [
              "0.02468072530455234"
            ]
          },
          "metadata": {},
          "execution_count": 46
        }
      ],
      "source": [
        "ridge = cvglmnet(x = X[train_ind, :].copy(), y = Y[train_ind].copy(), alpha = 0, lambdau = ridge_seq)\n",
        "pred = cvglmnetPredict(ridge, s = ridge['lambda_min'], newx=X[test_ind, :].copy())\n",
        "ridgemean = np.mean((Y[test_ind] - pred)**2)\n",
        "np.mean((Y[test_ind] - pred)**2)"
      ],
      "id": "H87QDJKLoRXk"
    },
    {
      "cell_type": "code",
      "source": [
        "pred = cvglmnetPredict(ridge, s = ridge['lambda_1se'], newx=X[test_ind, :].copy())\n",
        "ridge1semean = np.mean((Y[test_ind] - pred)**2)\n",
        "np.mean((Y[test_ind] - pred)**2)"
      ],
      "metadata": {
        "colab": {
          "base_uri": "https://localhost:8080/"
        },
        "id": "hxy4CPYc1D3Y",
        "outputId": "e021d276-99d0-4ab3-bfde-11703244182e"
      },
      "id": "hxy4CPYc1D3Y",
      "execution_count": 47,
      "outputs": [
        {
          "output_type": "execute_result",
          "data": {
            "text/plain": [
              "0.03061030721235193"
            ]
          },
          "metadata": {},
          "execution_count": 47
        }
      ]
    },
    {
      "cell_type": "markdown",
      "metadata": {
        "id": "NVR93xLSoRXl"
      },
      "source": [
        "# Lasso"
      ],
      "id": "NVR93xLSoRXl"
    },
    {
      "cell_type": "code",
      "execution_count": 48,
      "metadata": {
        "colab": {
          "base_uri": "https://localhost:8080/",
          "height": 308
        },
        "id": "_CelaOlIoRXl",
        "outputId": "8305c71e-13a8-406a-d70c-dde898082d9b"
      },
      "outputs": [
        {
          "output_type": "display_data",
          "data": {
            "text/plain": [
              "<Figure size 432x288 with 2 Axes>"
            ],
            "image/png": "[encoded data removed]"
          },
          "metadata": {
            "needs_background": "light"
          }
        }
      ],
      "source": [
        "lasso_out = cvglmnet(x = X.copy(), y = Y.copy(), alpha = 1)\n",
        "cvglmnetPlot(lasso_out)"
      ],
      "id": "_CelaOlIoRXl"
    },
    {
      "cell_type": "code",
      "execution_count": 49,
      "metadata": {
        "colab": {
          "base_uri": "https://localhost:8080/"
        },
        "id": "KhS2XwJaoRXl",
        "outputId": "499e34f0-08d8-41c8-84dd-3aaf032fabc7"
      },
      "outputs": [
        {
          "output_type": "execute_result",
          "data": {
            "text/plain": [
              "0.025602793886378445"
            ]
          },
          "metadata": {},
          "execution_count": 49
        }
      ],
      "source": [
        "lasso = cvglmnet(x = X[train_ind, :].copy(), y = Y[train_ind].copy(), alpha = 1)\n",
        "pred = cvglmnetPredict(lasso, s = lasso['lambda_min'], newx=X[test_ind, :].copy())\n",
        "lamminmean = np.mean((Y[test_ind] - pred)**2)\n",
        "np.mean((Y[test_ind] - pred)**2)"
      ],
      "id": "KhS2XwJaoRXl"
    },
    {
      "cell_type": "code",
      "execution_count": 50,
      "metadata": {
        "colab": {
          "base_uri": "https://localhost:8080/"
        },
        "id": "JXVQco_OoRXm",
        "outputId": "b8f51680-5615-4083-ce9d-9eaef6dc4886"
      },
      "outputs": [
        {
          "output_type": "execute_result",
          "data": {
            "text/plain": [
              "0.026426829585801285"
            ]
          },
          "metadata": {},
          "execution_count": 50
        }
      ],
      "source": [
        "pred = cvglmnetPredict(lasso, s = lasso['lambda_1se'], newx=X[test_ind, :].copy())\n",
        "lam1semean = np.mean((Y[test_ind] - pred)**2)\n",
        "np.mean((Y[test_ind] - pred)**2)"
      ],
      "id": "JXVQco_OoRXm"
    },
    {
      "cell_type": "markdown",
      "metadata": {
        "id": "SP62hy5joRXm"
      },
      "source": [
        "# Refit"
      ],
      "id": "SP62hy5joRXm"
    },
    {
      "cell_type": "code",
      "execution_count": 52,
      "metadata": {
        "colab": {
          "base_uri": "https://localhost:8080/"
        },
        "id": "JUJINax7oRXn",
        "outputId": "69204314-bd8e-48ed-b182-bd885c1e2921"
      },
      "outputs": [
        {
          "output_type": "execute_result",
          "data": {
            "text/plain": [
              "0.025667296945873032"
            ]
          },
          "metadata": {},
          "execution_count": 52
        }
      ],
      "source": [
        "lasso_coef = cvglmnetCoef(lasso, s = 'lambda_1se')\n",
        "var_sel = np.nonzero(lasso_coef[1:])[0]\n",
        "tmp_train = X[train_ind[:,None], var_sel[None, :]]\n",
        "tmp_test = X[test_ind[:,None], var_sel[None, :]]\n",
        "refit_model = LinearRegression().fit(tmp_train, Y[train_ind])\n",
        "pred = refit_model.predict(tmp_test)\n",
        "refitmean = np.mean((pred - Y[test_ind])**2)\n",
        "np.mean((pred - Y[test_ind])**2)"
      ],
      "id": "JUJINax7oRXn"
    },
    {
      "cell_type": "markdown",
      "metadata": {
        "id": "c0CnpPNsoRXn"
      },
      "source": [
        "# PCR\n",
        "\n",
        "Sample code for PCR (Principle Components Regression) with the number of components chosen by 10-fold cross validation"
      ],
      "id": "c0CnpPNsoRXn"
    },
    {
      "cell_type": "code",
      "execution_count": 53,
      "metadata": {
        "id": "dLVNzl2yoRXn"
      },
      "outputs": [],
      "source": [
        "class PCR(object):\n",
        "\n",
        "    def __init__(self, num_folds=10):\n",
        "        self.folds = num_folds\n",
        "\n",
        "    def fit(self, X, Y):\n",
        "        n, p = X.shape\n",
        "        indices = np.arange(n)\n",
        "        np.random.shuffle(indices)\n",
        "        index_sets = np.array_split(indices, self.folds)\n",
        "        ncomp = min(p, n - 1 - max([len(i) for i in index_sets]))\n",
        "        cv_err = np.zeros(ncomp)\n",
        "        \n",
        "        for ifold in range(self.folds):\n",
        "            train_inds =  np.delete(index_sets, obj=ifold, axis=0).ravel()\n",
        "            test_inds = index_sets[ifold]\n",
        "            \n",
        "            X_train = X[train_inds, :]\n",
        "            pipeline = Pipeline([('scaling', StandardScaler()), ('pca', PCA())])\n",
        "            pipeline.fit(X_train)\n",
        "            X_train = pipeline.transform(X_train)\n",
        "            coefs = Y[train_inds].T @ X_train / np.sum(X_train**2, axis=0)\n",
        "            b0 = np.mean(Y[train_inds])\n",
        "\n",
        "            X_test = pipeline.transform(X[test_inds, :])\n",
        "            \n",
        "            for k in np.arange(ncomp):\n",
        "                preds = X_test[:, :k] @ coefs.T[:k] + b0\n",
        "                cv_err[k] += cv_err[k] + np.sum((Y[test_inds]-preds)**2)\n",
        "\n",
        "        min_ind = np.argmin(cv_err)\n",
        "        self.ncomp = min_ind+1\n",
        "        pipeline = Pipeline([('scaling', StandardScaler()), ('pca', PCA(n_components=self.ncomp))])\n",
        "        self.transform = pipeline.fit(X)\n",
        "        self.model = LinearRegression().fit(self.transform.transform(X), Y)\n",
        "\n",
        "    def predict(self, X):\n",
        "        X_ = self.transform.transform(X)\n",
        "        return self.model.predict(X_)"
      ],
      "id": "dLVNzl2yoRXn"
    },
    {
      "cell_type": "code",
      "execution_count": 54,
      "metadata": {
        "colab": {
          "base_uri": "https://localhost:8080/"
        },
        "id": "-4GZRNZxoRXn",
        "outputId": "a96e4ec6-798f-480c-f849-33e317de6d17"
      },
      "outputs": [
        {
          "output_type": "execute_result",
          "data": {
            "text/plain": [
              "0.027860240867757746"
            ]
          },
          "metadata": {},
          "execution_count": 54
        }
      ],
      "source": [
        "pcr = PCR()\n",
        "pcr.fit(X[train_ind, :], Y[train_ind])\n",
        "preds = pcr.predict(X[test_ind, :])\n",
        "pcrmean = np.mean((Y[test_ind] - preds)**2)\n",
        "np.mean((Y[test_ind] - preds)**2)"
      ],
      "id": "-4GZRNZxoRXn"
    },
    {
      "cell_type": "code",
      "execution_count": 55,
      "metadata": {
        "colab": {
          "base_uri": "https://localhost:8080/"
        },
        "id": "L8rBA6jZoRXo",
        "outputId": "ea9cdf25-38b1-43f9-c8d5-1a3edff2b11c"
      },
      "outputs": [
        {
          "output_type": "execute_result",
          "data": {
            "text/plain": [
              "91"
            ]
          },
          "metadata": {},
          "execution_count": 55
        }
      ],
      "source": [
        "pcr.ncomp"
      ],
      "id": "L8rBA6jZoRXo"
    },
    {
      "cell_type": "markdown",
      "source": [
        "# Case I Simulation code - 50 times"
      ],
      "metadata": {
        "id": "DaF_URVKdujQ"
      },
      "id": "DaF_URVKdujQ"
    },
    {
      "cell_type": "code",
      "source": [
        "fullmean1 = []\n",
        "ridgemean1 = []\n",
        "ridge1semean1 = []\n",
        "lassominmean1 = []\n",
        "lasso1semean1 = []\n",
        "refitmean1 = []\n",
        "pcrmean1 = []\n",
        "n = len(Y) #(Y)\n",
        "indices = np.arange(0, n)\n",
        "\n",
        "for sym in range(50):\n",
        "  np.random.shuffle(indices)\n",
        "  test_ind = indices[:int(np.floor(0.25*n))]\n",
        "  train_ind = indices[len(test_ind):]\n",
        "\n",
        "  # Full\n",
        "  full = LinearRegression().fit(X[train_ind, :], Y[train_ind]) #Y\n",
        "  fullmean1.append(np.mean((full.predict(X[test_ind, :]) - Y[test_ind])**2))\n",
        "\n",
        "  # Ridge min and 1se\n",
        "  ridge = cvglmnet(x = X[train_ind, :].copy(), y = Y[train_ind].copy(), alpha = 0, lambdau = ridge_seq)\n",
        "  \n",
        "  pred = cvglmnetPredict(ridge, s = ridge['lambda_min'], newx=X[test_ind, :].copy())\n",
        "  ridgemean1.append(np.mean((Y[test_ind] - pred)**2))\n",
        "\n",
        "  pred = cvglmnetPredict(ridge, s = ridge['lambda_1se'], newx=X[test_ind, :].copy())\n",
        "  ridge1semean1.append(np.mean((Y[test_ind] - pred)**2))\n",
        "\n",
        "  # Lasso mon and 1se\n",
        "  lasso = cvglmnet(x = X[train_ind, :].copy(), y = Y[train_ind].copy(), alpha = 1)\n",
        "  \n",
        "  pred = cvglmnetPredict(lasso, s = lasso['lambda_min'], newx=X[test_ind, :].copy())\n",
        "  lassominmean1.append(np.mean((Y[test_ind] - pred)**2))\n",
        "\n",
        "  pred = cvglmnetPredict(lasso, s = lasso['lambda_1se'], newx=X[test_ind, :].copy())\n",
        "  lasso1semean1.append(np.mean((Y[test_ind] - pred)**2))\n",
        "\n",
        "  # Refit\n",
        "  lasso_coef = cvglmnetCoef(lasso, s = 'lambda_1se')\n",
        "  var_sel = np.nonzero(lasso_coef[1:])[0]\n",
        "  tmp_train = X[train_ind[:,None], var_sel[None, :]]\n",
        "  tmp_test = X[test_ind[:,None], var_sel[None, :]]\n",
        "  refit_model = LinearRegression().fit(tmp_train, Y[train_ind])\n",
        "  pred = refit_model.predict(tmp_test)\n",
        "  refitmean1.append(np.mean((pred - Y[test_ind])**2))\n",
        "\n",
        "  # PCR\n",
        "  pcr = PCR()\n",
        "  pcr.fit(X[train_ind, :], Y[train_ind])\n",
        "  preds = pcr.predict(X[test_ind, :])\n",
        "  pcrmean1.append(np.mean((Y[test_ind] - preds)**2))"
      ],
      "metadata": {
        "id": "HGokvF_s5uYD"
      },
      "id": "HGokvF_s5uYD",
      "execution_count": 63,
      "outputs": []
    },
    {
      "cell_type": "markdown",
      "source": [
        "# Case I - Graph the results of the MSPE values for each model"
      ],
      "metadata": {
        "id": "OHNoxfk35ebp"
      },
      "id": "OHNoxfk35ebp"
    },
    {
      "cell_type": "code",
      "source": [
        "# Graph the results\n",
        "data = [fullmean1, ridgemean1, ridge1semean1, lassominmean1, lasso1semean1, refitmean1, pcrmean1 ]  # these are the collected sets of data from the fit models\n",
        "\n",
        "fig = plt.figure(figsize =(15, 10))\n",
        "plt.title(\"MSPE Results per Model Box Plot\", fontsize = 24)\n",
        "\n",
        "# x-axis labels\n",
        "plt.xlabel('Prediction Type', fontsize = 18)\n",
        "plt.ylabel('Mean Squared Prediction Error', fontsize = 18)\n",
        "names = ['Full','Ridge Min', 'Ridge 1se', 'Lasso Min', 'Lasso 1se', 'Refit', 'PCR']\n",
        "\n",
        "# Set Colors for each box\n",
        "colors = ['#0000FF', '#00FF00', '#FFFF00','#d0c4ef', '#db4b4b', '#002a28','#677b60']\n",
        "\n",
        "# Creating plot\n",
        "cplot = plt.boxplot(data, labels = names, patch_artist = True)\n",
        "for patch, color in zip(cplot['boxes'], colors):\n",
        "    patch.set_facecolor(color)\n",
        "    \n",
        "# show plot\n",
        "plt.show()"
      ],
      "metadata": {
        "colab": {
          "base_uri": "https://localhost:8080/",
          "height": 639
        },
        "id": "yLWxS6_JzDee",
        "outputId": "f6a74fa8-f81c-43ed-a292-edab1566887f"
      },
      "id": "yLWxS6_JzDee",
      "execution_count": 64,
      "outputs": [
        {
          "output_type": "display_data",
          "data": {
            "text/plain": [
              "<Figure size 1080x720 with 1 Axes>"
            ],
            "image/png": "[encoded data removed]"
          },
          "metadata": {
            "needs_background": "light"
          }
        }
      ]
    },
    {
      "cell_type": "markdown",
      "source": [
        "# Case II\n",
        "\n",
        "Questions:\n",
        "1.   The method(s) that performed the best - **Lasso Min** seems to be the best\n",
        "2.   The method(s) that performed the worst - **PCR** seems to be the worst\n",
        "3.   Do any method(s) perform better in one case but not in the other? Why?\n",
        "  \n",
        "  **Answer** -  Yes - overall case I performs better than Case II.  However in comparing each prediciton type comparatively **Ridge Min** does not perform as well in Case II vs how it compared in Case I.  Same for **PCR** and **Refit**.  I think this may have to do with the additional 500 features of \"noise\" that are included in the data3 file.  This noise applies a penalty in the calculations and the the worse outcomes.\n",
        "4.  With Data3 containing all data2 featuers plus additional, one may expect the best MSPE case is smaller than best MSPE in case I, does the simulation support this ?\n",
        "  \n",
        "  **Answer** - no, the simulation does not show this.  It actually shows worse MSPE values for each of the prediction models in Case II.  I feel this is due to the additional noise data contained in the 500 additinoal colunms provided in the data3 file. This noise applies a penalty in the calculations and the the worse outcomes.\n",
        "\n",
        "\n",
        "\n"
      ],
      "metadata": {
        "id": "kJUVulqow7pb"
      },
      "id": "kJUVulqow7pb"
    },
    {
      "cell_type": "code",
      "source": [
        "myData2 = pd.read_csv(\"Coding2_Data3.csv\")\n",
        "var_names2 = myData2.columns\n",
        "Y2 = myData2[[\"Y\"]].to_numpy()\n",
        "X2 = myData2.drop([\"Y\"], axis = 1).to_numpy()"
      ],
      "metadata": {
        "id": "WoZ5G4Naw-_X"
      },
      "id": "WoZ5G4Naw-_X",
      "execution_count": 72,
      "outputs": []
    },
    {
      "cell_type": "markdown",
      "source": [
        "# Case II Simulation code - 50 times\n",
        "\n",
        "Without Full model calculated"
      ],
      "metadata": {
        "id": "25Hz7QLOd6li"
      },
      "id": "25Hz7QLOd6li"
    },
    {
      "cell_type": "code",
      "source": [
        "ridgemean2 = []\n",
        "ridge1semean2 = []\n",
        "lassominmean2 = []\n",
        "lasso1semean2 = []\n",
        "refitmean2 = []\n",
        "pcrmean2 = []\n",
        "n2 = len(Y2) #(Y)\n",
        "indices2 = np.arange(0, n2)\n",
        "\n",
        "for sym in range(50): \n",
        "  np.random.shuffle(indices2)\n",
        "  test_ind2 = indices2[:int(np.floor(0.25*n2))]\n",
        "  train_ind2 = indices2[len(test_ind2):]\n",
        "\n",
        "  # Ridge min and 1se\n",
        "  ridge = cvglmnet(x = X2[train_ind2, :].copy(), y = Y2[train_ind2].copy(), alpha = 0, lambdau = ridge_seq)\n",
        "  \n",
        "  pred = cvglmnetPredict(ridge, s = ridge['lambda_min'], newx=X2[test_ind2, :].copy())\n",
        "  ridgemean2.append(np.mean((Y2[test_ind2] - pred)**2))\n",
        "\n",
        "  pred = cvglmnetPredict(ridge, s = ridge['lambda_1se'], newx=X2[test_ind2, :].copy())\n",
        "  ridge1semean2.append(np.mean((Y2[test_ind2] - pred)**2))\n",
        "\n",
        "  # Lasso mon and 1se\n",
        "  lasso = cvglmnet(x = X2[train_ind2, :].copy(), y = Y2[train_ind2].copy(), alpha = 1)\n",
        "  \n",
        "  pred = cvglmnetPredict(lasso, s = lasso['lambda_min'], newx=X2[test_ind2, :].copy())\n",
        "  lassominmean2.append(np.mean((Y2[test_ind2] - pred)**2))\n",
        "\n",
        "  pred = cvglmnetPredict(lasso, s = lasso['lambda_1se'], newx=X2[test_ind2, :].copy())\n",
        "  lasso1semean2.append(np.mean((Y2[test_ind2] - pred)**2))\n",
        "\n",
        "  # Refit\n",
        "  lasso_coef = cvglmnetCoef(lasso, s = 'lambda_1se')\n",
        "  var_sel = np.nonzero(lasso_coef[1:])[0]\n",
        "  tmp_train = X2[train_ind2[:,None], var_sel[None, :]]\n",
        "  tmp_test = X2[test_ind2[:,None], var_sel[None, :]]\n",
        "  refit_model = LinearRegression().fit(tmp_train, Y2[train_ind2])\n",
        "  pred = refit_model.predict(tmp_test)\n",
        "  refitmean2.append(np.mean((pred - Y2[test_ind2])**2))\n",
        "\n",
        "  # PCR\n",
        "  pcr = PCR()\n",
        "  pcr.fit(X2[train_ind2, :], Y2[train_ind2])\n",
        "  preds = pcr.predict(X2[test_ind2, :])\n",
        "  pcrmean2.append(np.mean((Y2[test_ind2] - preds)**2))"
      ],
      "metadata": {
        "id": "m5KKjcezZBUi"
      },
      "id": "m5KKjcezZBUi",
      "execution_count": 73,
      "outputs": []
    },
    {
      "cell_type": "markdown",
      "source": [
        "# Case II - Graph the results of the MSPE values for each model\n",
        "\n",
        "Without Full Model"
      ],
      "metadata": {
        "id": "rAKTW4EeeMtU"
      },
      "id": "rAKTW4EeeMtU"
    },
    {
      "cell_type": "code",
      "source": [
        "# Graph the results\n",
        "data = [ridgemean2, ridge1semean2, lassominmean2, lasso1semean2, refitmean2, pcrmean2 ]  # these are the collected sets of data from the fit models\n",
        "\n",
        "fig = plt.figure(figsize =(15, 10))\n",
        "plt.title(\"MSPE Results per Model Box Plot\", fontsize = 24)\n",
        "\n",
        "# x-axis labels\n",
        "plt.xlabel('Prediction Type', fontsize = 18)\n",
        "plt.ylabel('Mean Squared Prediction Error', fontsize = 18)\n",
        "names = ['Ridge Min', 'Ridge 1se', 'Lasso Min', 'Lasso 1se', 'Refit', 'PCR']\n",
        "\n",
        "# Set Colors for each box\n",
        "colors = ['#00FF00', '#FFFF00','#d0c4ef', '#db4b4b', '#002a28','#677b60']\n",
        "\n",
        "# Creating plot\n",
        "cplot = plt.boxplot(data, labels = names, patch_artist = True)\n",
        "for patch, color in zip(cplot['boxes'], colors):\n",
        "    patch.set_facecolor(color)\n",
        "    \n",
        "# show plot\n",
        "plt.show()"
      ],
      "metadata": {
        "colab": {
          "base_uri": "https://localhost:8080/",
          "height": 639
        },
        "id": "JFsyrWukZRKq",
        "outputId": "887de7b2-7df6-4e18-bc9e-377bc6912276"
      },
      "id": "JFsyrWukZRKq",
      "execution_count": 74,
      "outputs": [
        {
          "output_type": "display_data",
          "data": {
            "text/plain": [
              "<Figure size 1080x720 with 1 Axes>"
            ],
            "image/png": "[encoded data removed]"
          },
          "metadata": {
            "needs_background": "light"
          }
        }
      ]
    },
    {
      "cell_type": "markdown",
      "source": [
        "# Comparison Box Plot Case I vs Case II (excluding full)"
      ],
      "metadata": {
        "id": "aRHKIcDzx1Fs"
      },
      "id": "aRHKIcDzx1Fs"
    },
    {
      "cell_type": "code",
      "source": [
        "# Graph the results - Comparisons\n",
        "data = [ridgemean, ridgemean2, ridge1semean, ridge1semean2, lassominmean, lassominmean2, lasso1semean, lasso1semean2, refitmean, refitmean2, pcrmean,pcrmean2 ]  # these are the collected sets of data from the fit models\n",
        "\n",
        "fig = plt.figure(figsize =(15, 10))\n",
        "plt.title(\"MSPE Results per Model Box Plot\", fontsize = 24)\n",
        "\n",
        "# x-axis labels\n",
        "plt.xlabel('Prediction Type (Case I vs Case II)', fontsize = 18)\n",
        "plt.ylabel('Mean Squared Prediction Error', fontsize = 18)\n",
        "names = ['Ridge Min','Ridge Min2', 'Ridge 1se', 'Ridge 1se2','Lasso Min', 'Lasso Min2','Lasso 1se', 'Lasso 1se2','Refit', 'Refit2','PCR','PCR2']\n",
        "\n",
        "# Set Colors for each box\n",
        "colors = ['#00FF00','#00FF00', '#FFFF00','#FFFF00','#d0c4ef', '#d0c4ef','#db4b4b', '#db4b4b','#002a28','#002a28','#677b60','#677b60']\n",
        "\n",
        "# Creating plot\n",
        "cplot = plt.boxplot(data, labels = names, patch_artist = True)\n",
        "for patch, color in zip(cplot['boxes'], colors):\n",
        "    patch.set_facecolor(color)\n",
        "    \n",
        "# show plot\n",
        "plt.show()"
      ],
      "metadata": {
        "colab": {
          "base_uri": "https://localhost:8080/",
          "height": 639
        },
        "id": "tTuO68kLwuTa",
        "outputId": "9107f90b-c003-4a94-f1d8-5edfa2ba11f5"
      },
      "id": "tTuO68kLwuTa",
      "execution_count": 77,
      "outputs": [
        {
          "output_type": "display_data",
          "data": {
            "text/plain": [
              "<Figure size 1080x720 with 1 Axes>"
            ],
            "image/png": "[encoded data removed]"
          },
          "metadata": {
            "needs_background": "light"
          }
        }
      ]
    },
    {
      "cell_type": "markdown",
      "source": [
        "# Pip Install command for glmnet_python to work"
      ],
      "metadata": {
        "id": "pm5EGARxeZXf"
      },
      "id": "pm5EGARxeZXf"
    },
    {
      "cell_type": "code",
      "source": [
        " pip install  --force-reinstall --no-deps git+https://gitlab.com/joseph-r-hamilton_/public/glmnet_python.git"
      ],
      "metadata": {
        "colab": {
          "base_uri": "https://localhost:8080/"
        },
        "id": "CbShUULKoazY",
        "outputId": "f8fc347e-a113-4eac-fcb0-6ea9bc756316"
      },
      "id": "CbShUULKoazY",
      "execution_count": 1,
      "outputs": [
        {
          "output_type": "stream",
          "name": "stdout",
          "text": [
            "Looking in indexes: https://pypi.org/simple, https://us-python.pkg.dev/colab-wheels/public/simple/\n",
            "Collecting git+https://gitlab.com/joseph-r-hamilton_/public/glmnet_python.git\n",
            "  Cloning https://gitlab.com/joseph-r-hamilton_/public/glmnet_python.git to /tmp/pip-req-build-c96g4m8v\n",
            "  Running command git clone -q https://gitlab.com/joseph-r-hamilton_/public/glmnet_python.git /tmp/pip-req-build-c96g4m8v\n",
            "Building wheels for collected packages: glmnet-python\n",
            "  Building wheel for glmnet-python (setup.py) ... \u001b[?25l\u001b[?25hdone\n",
            "  Created wheel for glmnet-python: filename=glmnet_python-0.2.0-py3-none-any.whl size=184566 sha256=3218ea2e1df001d6e568c9d66ec5136c5a8bc05dfdd8a6d8c8fd816f72d60dd6\n",
            "  Stored in directory: /tmp/pip-ephem-wheel-cache-1dcenkji/wheels/9d/54/fa/18d9248ed88f4c31a0cbd4f329fb69d509aba2ab3d3575385a\n",
            "Successfully built glmnet-python\n",
            "Installing collected packages: glmnet-python\n",
            "Successfully installed glmnet-python-0.2.0\n"
          ]
        }
      ]
    }
  ],
  "metadata": {
    "kernelspec": {
      "display_name": "Python 3",
      "language": "python",
      "name": "python3"
    },
    "language_info": {
      "codemirror_mode": {
        "name": "ipython",
        "version": 3
      },
      "file_extension": ".py",
      "mimetype": "text/x-python",
      "name": "python",
      "nbconvert_exporter": "python",
      "pygments_lexer": "ipython3",
      "version": "3.6.5"
    },
    "colab": {
      "provenance": [],
      "collapsed_sections": [],
      "name": "Assignment_2_1036_RHarms3.ipynb",
      "include_colab_link": true
    }
  },
  "nbformat": 4,
  "nbformat_minor": 5
}